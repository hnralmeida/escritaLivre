{
  "nbformat": 4,
  "nbformat_minor": 0,
  "metadata": {
    "colab": {
      "provenance": []
    },
    "kernelspec": {
      "name": "python3",
      "display_name": "Python 3"
    },
    "language_info": {
      "name": "python"
    }
  },
  "cells": [
    {
      "cell_type": "markdown",
      "source": [
        "# Análise de Sistemas\n",
        "Gustavo Ludovico Guidoni\n",
        "\n",
        "LARMAN, Craig. **Utilizando UML e Padrões Uma Introdução a Analise e ao Projeto Orientados a Objetos.** Bookman, 2007.\n"
      ],
      "metadata": {
        "id": "EuFK5ipCwb3X"
      }
    },
    {
      "cell_type": "markdown",
      "source": [
        "<ul>\n",
        "  <li>Etapas no Desenvolvimento de Software\n",
        "    <ul>\n",
        "      <li> Planejamento </li>\n",
        "      <li> Levantamente e Especificação de Requisitos </li>\n",
        "      <li> Análise </li>\n",
        "      <li> Projeto </li>\n",
        "      <li> Implementação </li>\n",
        "      <li> Testes </li>\n",
        "      <li> Entrega e Implantação</li>\n",
        "      <li> Operação e Manutenção </li>\n",
        "    </ul>\n",
        "  </li>\n",
        "  <li> ANS foca no Levantamento e Especificação de Requisitos, e, Análise </li>\n",
        "  <li> Foca no Paradigma de Orientação a Objetos </li>\n",
        "  <li> Modela Sistemas por meio da Linguagem de modelagem UML \n",
        "    <ul>\n",
        "      <li> Visões de um Sistema: Funcional, Estrutural, Comportamental </li>\n",
        "    </ul>\n",
        "  </li>\n",
        "</ul>"
      ],
      "metadata": {
        "id": "BTggHZUlxXZS"
      }
    },
    {
      "cell_type": "markdown",
      "source": [
        "# Introdução\n",
        "<ul>\n",
        "  <li> Inicialmente os softwares eram construídos apenas para áreas específicas, para poucos usuários. </li>\n",
        "  <li> Com a dissiminação dos computadores, variedades de tecnologias surgiram com necessidade de integração e manutenção, prazos críticos e equipes grandes. </li>\n",
        "  <li> Engenharia de software tem por objetivo construir de maneira eficiente software de qualidade \n",
        "    <ul>\n",
        "      <li>Processo de Software é a série de tarefas ordenadas, com critérios de transição de etapas e sub-produtos consumidos por etapas seguintes, que guiam pessoas para produzir um produto.</li>\n",
        "      <li>As atividades do processo de Produção de Software se divide em Atividades de Desenvolvimento, de Gerência e de Garantia da Qualidade, sendo as duas últimas atividades de apoio. </li>\n",
        "    </ul>\n",
        "  </li>\n",
        "  \n",
        "  \n",
        "</ul>"
      ],
      "metadata": {
        "id": "gD5sV1Bo4vgq"
      }
    },
    {
      "cell_type": "markdown",
      "source": [
        "<ul>\n",
        "<li> Modelos de Processo\n",
        "  <ul>\n",
        "    <li> Modelo de Processo, ou Ciclo de Vida, mostra os passos ou série dependente de etapas que uma atividade de desenvolvimento possui e fornecem estabilidade, controle e organização. </li>\n",
        "  </ul>\n",
        "    <ol>\n",
        "      <li> Modelos Sequenciais\n",
        "        <ul>\n",
        "          <li>\n",
        "            <b>em Cascata. </b>Modelo mais antigo, uma fase se inicia com o término da anterior. Uma fase serve de base documentada e revisada ao fim para a fase seguinte.\n",
        "            <ul>\n",
        "              <li>Fase de Análise e Especificação de Requisitos. Definido e documentado com o cliente a regra do negócio, são estabelecidas as funções, restrições e objetivos do sistema. </li>\n",
        "              <li>Fase de Projeto. Identificação e descrição das abstrações\n",
        "fundamentais</li>\n",
        "              <li>Fase de Implementação. Desenvolvimento do código em linguagem de máquina.</li>\n",
        "              <li>Fase de Testes. Testes dos aspectos internos e internos, isto é, se não há erros no código e se ele gera as saídas esperadas.</li>\n",
        "              <li>Fase de Entrega e Implementação. O Cliente apresenta feedback à equipe de desenvolvimento e ela realiza manutenção do código, reexecutando o ciclo de vida para cada mudança. </li>\n",
        "            </ul>\n",
        "          </li>\n",
        "          <li><b>em V.</b> Baseado no modelo anterior, enfatiza a relação da fase de testes com a anterior. </li>\n",
        "        </ul>      \n",
        "      </li>\n",
        "      <li> Modelos Incrementais\n",
        "        <ul>\n",
        "          <li><b>Incremental.</b> Os requisitos são minimamente levantados e o sistema é incremental, lançado em módulos. Ele apresenta o menor custo para lanãr a versão inicial e tende a diminuir riscos técnicos de implementação de novas tecnologias. </li>\n",
        "          <li><b>RAD (Rapid Application Development).</b> Possui ciclis de desenvolvimento menores que o anterior e realizados por equipes distintas, mas com uma única entrega com uma fase de integração. </li>\n",
        "        </ul>      \n",
        "      </li>\n",
        "      <li> Modelos Evolutivos\n",
        "        <ul>\n",
        "          <li><b>em Espiral.</b> Realizado em ciclos com forte gerêcia onde as etapas de desenvolvimento são repetidas e feitos protótipos que vão dando lugar a versão operacional. </li>\n",
        "          <li><b>Processo Unificado (RUP). É feito por iterações e possui definição detalhada de cada etapa.</b></li>\n",
        "        </ul>      \n",
        "      </li>\n",
        "    </ol>\n",
        "  </li>\n",
        "</ul>\n",
        "<li>Protótipação. Pode ser realizada junto de um Modelo de Processo para dar ajudar o cliente a entender o que está sendo desenvolvido, tendo cuidado para o mesmo não pensar que esta ferramenta é a versão final do software.</li>"
      ],
      "metadata": {
        "id": "PFeyzkYnU9dZ"
      }
    },
    {
      "cell_type": "markdown",
      "source": [
        "# Visão Geral de Engenharia de Software"
      ],
      "metadata": {
        "id": "7aMsbHV-vkZk"
      }
    },
    {
      "cell_type": "markdown",
      "source": [
        "<ul>\n",
        "  <li> A análise de requisitos é a atividade de Organizar e Controlar a quantidade de requisitos de um Sistema, as descrições dos serviços que devem ser providos pelo sistema (SOMMERVILE, 2007). Descrevem o que, não como. </li>\n",
        "  <li>O levantamento de requisitos pode ser divididos em 5 tarefas fundamentais: \n",
        "    <ul>\n",
        "      <li>Entendimento do Domínio de Aplicação </li>\n",
        "      <li>Identificação de Fontes de Requisitos </li> \n",
        "      <li>Análise de Interessados (stakeholders) </li> \n",
        "      <li>Seleção de Técnicas de Levantamento de Requisitos</li> \n",
        "      <li>Seleção de Técnicas de Levantamento de Requisitos</li> \n",
        "      <li>Levantamento de Requisitos de Interessados e Outras Fontes.</li>\n",
        "    </ul>\n",
        "  </li>\n",
        "  <li> Tipos de serviço quanto ao tipo de informação\n",
        "    <ul>\n",
        "      <li> <b>Requisitos funcionais.</b> Descreve a interação entre o ambiente e o sistema; </li>\n",
        "      <li> <b> Requisitos Não-Funcionais.</b> Descreve as restrições sobre os serviços/funções do sistema.</li>\n",
        "      <ul>\n",
        "        <li> <b> Requisitos de Produto.</b> Atributos de Qualidade (Sistema, como qualidade, manutenibilidade e segurança).\n",
        "        <li> <b> Organizaionais. </b> Derivadas da organização do cliente/desenvolvedor (Time to market, orçamento e outras restrições de entrega). </li>\n",
        "        <li> <b> Externos.</b> Princípios éticos, de interoperalidade e legais. </li>\n",
        "      </ul>\n",
        "    </ul>\n",
        "  </li>\n",
        "  <li> Benefícios que um processo de ER de qualidade pode trazer: \n",
        "    <ul>\n",
        "      <li> Menor quantidade de defeitos nos requisitos; </li>\n",
        "      <li> Redução de retrabalho; </li>\n",
        "      <li> Desenvolvimento de menos características desnecessárias; </li>\n",
        "      <li> Diminuição de custos;</li>\n",
        "      <li> Desenvolvimento mais rápido;</li>\n",
        "      <li> Menos problemas de comunicação;</li>\n",
        "      <li> Alterações de escopo reduzidas;</li>\n",
        "      <li> Estimativas mais confiáveis</li>\n",
        "      <li> Maior satisfação de clientes e desenvolvedores.</li>\n",
        "    </ul>\n",
        "  </li>\n",
        "</ul>"
      ],
      "metadata": {
        "id": "hoKhyquQSNn3"
      }
    },
    {
      "cell_type": "markdown",
      "source": [
        "# Levantamento e Modelagem de Requisitos"
      ],
      "metadata": {
        "id": "mE6QgNN3vnmR"
      }
    },
    {
      "cell_type": "markdown",
      "source": [
        "<ul>\n",
        "  <li> As técnicas de levantamentos de requisitos podem ser classificados em métodos interativos e métodos não-obstrutivos, em relação a interação com o trabalho das pessoas da organização. Os métodos de levantamento envolvem Planejamento, Condução, Registro e Validação. Destacam-se: \n",
        "    <ul>\n",
        "      <li>Entrevista</li>\n",
        "      <li>Questionários</li>\n",
        "      <li>Observação</li>\n",
        "      <li>Prototipagem</li>\n",
        "      <li>Análise de Documentos </li>\n",
        "      <li>Técnicas em Grupo: Workshop de Requisitos, Brainstormin e JAD</li>\n",
        "      <li> Cenários, Abordagens Baseadas em Objetivos e Reutilização de requisitos </li>\n",
        "    </ul>\n",
        "  </li>\n",
        "  <li> <b>Business Model.</b> É um conjunto de modelos que provê uma visulização dos processos de negócio, que derivam diversos modelos de processos/atividades. </li>\n",
        "  <li><b>Documentando Requisitos.</b> Para que os requisitos possam ser verificados, validados e usado como base para outras atividades: o Documento de\n",
        "Definição de Requisitos, em linguagem de alto nível, e o Documento de Especificação de Requisitos, focado no entendimento de desenvolvedores. \n",
        "    <ul>\n",
        "      <li>Documento de\n",
        "Definição de Requisitos: Estruturado com uma introdução, Descrição do propósito do sistema, Descrição do Minimundo (Visão geral do domínio e processos de negócio apoiados) e Requisitos de cliente (Devendo seguir um padrão organizacional e possuir identificadores únicos, mas devem apresentar Requisitos Funcionais (RF), Não-Funcionais (RFN) e Regras de Negócios (RN)). \n",
        "        <ul>\n",
        "          <li>RF ─ Devem ser descritos no modo imperativo e indicar uma ação com complemento, indicando agente e predicado.</li>\n",
        "          <li>RNF ─ ISO/IEC 2011 (Functional Suitability, Confiability, Usability, Eficiency, Security, Compatibility, Maintainability, Portability), Tempo para chegar ao mercado (time to market), Custo-benefício, Tempo de vida projetado para o sistema, Mercado alvo, Cronograma de implementação e Integração com sistemas legados (Bass, Clements e Kazman, 2003).</li>\n",
        "          <li> RN ─ Uma regra de negócio é uma declaração que define ou restringe algum aspecto do negócio, com o propósito de estabelecer sua estrutura ou controlar ou influenciar o comportamento do negócio (WIEGERS, 2003). Surgem fora do contexto do sistema, devendo estar associadas a uma RF, emergindo durante o levantamento detalhado de requisito. Existem 5 tipos:\n",
        "            <ul>\n",
        "            <li>Fatos/Invariantes (Todo obj tem pred)</li>\n",
        "            <li>Restrições (Deve/Não deve/pode/Somente)</li>\n",
        "            <li>Triggers (Se condição então ação)</li>\n",
        "            <li>Inferência (Se fato então fato)</li>\n",
        "            <li>Computações (Cálculos como necessidade)</li>\n",
        "            </ul>\n",
        "          </li>\n",
        "        </ul>\n",
        "      </li>\n",
        "    </ul>\n",
        "  </li>\n",
        "</li>\n",
        "\n",
        "\n"
      ],
      "metadata": {
        "id": "Vjnhkhfk66PP"
      }
    },
    {
      "cell_type": "markdown",
      "source": [
        "<ul>\n",
        "  <li><b>Modelagem de Casos de Uso (UC).</b> Representa o comportamento desejado do sistema, podendo ser usado para construção de estudos de caso, estimativas, identificação de riscos, prototipação e etc. Os casos de uso são uma forma de mostrar o mecanismo de funcionamento do sistema em partes menores.\n",
        "    <ul>\n",
        "      <li>Um caso de uso dita o comportamento do sistema diante uma solicitação de um stakeholder (interessado), dito ator primário neste (Cockburn, 2005). </li>\n",
        "      <li>Um ator são entidades geralmente físicas, pessoas ou outros sistemas, que interagem com o sistema. Eles interagem com o sistema sem ser parte dele, servindo para delimitar as fronteiras do mesmo.</li>\n",
        "      <li> <b>Elaboração: </b>\n",
        "        <ul>\n",
        "          <li>Identificar Atores</li>\n",
        "          <li>Captura de casos {Usos do sistema pelos atores}</li>\n",
        "          <li>Análise de relacionamentos de atores e casos de uso</li>\n",
        "          <li>Criação dos diagramas de casos de uso</li>\n",
        "          <li>Separação dos casos de uso em subsistemas </li>\n",
        "        </ul>\n",
        "      </li>\n",
        "    </ul>\n",
        "  </li>\n",
        "</ul>"
      ],
      "metadata": {
        "id": "XXyxbLbtfwuq"
      }
    }
  ]
}